{
 "cells": [
  {
   "cell_type": "markdown",
   "metadata": {},
   "source": [
    "<span style=\"font-size:100%\">\n",
    "\n",
    "수업은 모두 열심히 들으셨나요?\n",
    "\n",
    "간혹 강의에서 언급되지 않은 내용이 문제로 나올 수 있습니다.<br>\n",
    "그럴땐 강의 내용 외 문제는 구글링을 통해 해결해주세요<br></span>\n",
    "<span style=\"font-size:80%\">\n",
    "(구글링 또한 개발자가 갖쳐야할 역량 중에 하나랍니다 😊)\n",
    "</span>\n",
    "\n",
    "---"
   ]
  },
  {
   "cell_type": "markdown",
   "metadata": {},
   "source": [
    "<span style=\"font-size:80%\">[문제1]<br><br></span>\n",
    "```인터프리트 방식에 대해 설명하고 2개 이상의 장점을 설명해주세요```"
   ]
  },
  {
   "cell_type": "markdown",
   "metadata": {},
   "source": [
    "<span style=\"color:red\">답변</span>"
   ]
  },
  {
   "cell_type": "markdown",
   "metadata": {},
   "source": [
    "# 인터프리트 방식\n",
    "소스 코드 실행 : 인터프리터는 소스 코드를 직접 읽고 실행합니다. 이는 프로그램이 한 줄씩 읽히고 실행된다는 것을 의미합니다.\n",
    "\n",
    "중간 코드 생성 : 파이썬  인터프리터는 소스 코드를 기계어로 직접 번역하지 않고, 먼 바이트코드라는 중간 형태로 변환합니다. 이 바이트코드는 파이썬 가상머신에서 \n",
    "실행됩니다.\n",
    "\n",
    "동적 실행 : 코드를 동적으로 실행하기 때문에, 코드 실행 중에 동적인 타입 검사와 오류 검사가 가능합니다.\n",
    "\n",
    "# 인터프리트 방식의 장점\n",
    "빠른 개발 및 디버깅 : 코드를 작성한 후 즉시 실행해볼 수 있어 개발과 디버깅이 용이합니다.\n",
    "\n",
    "이식성 : 파이썬 인터프리터가 설치된 어떤 환경에서도 코드가 실행될 수 있어, 다양한 플랫폼에서 이식성이 좋습니다.\n",
    "\n",
    "동적 타입 : 동적 타입 시스템 덕분에 변수의 타입을 명시적으로 선언할 필요 없이 코드를 작성할 수 있습니다.\n"
   ]
  },
  {
   "cell_type": "markdown",
   "metadata": {},
   "source": [
    "---"
   ]
  },
  {
   "cell_type": "markdown",
   "metadata": {},
   "source": [
    "<span style=\"font-size:80%\">[문제2]<br><br></span>\n",
    "```동적 타입 방식의 장점과 단점을 간략히 설명해주세요```"
   ]
  },
  {
   "cell_type": "markdown",
   "metadata": {},
   "source": [
    "<span style=\"color:red\">답변</span>"
   ]
  },
  {
   "cell_type": "markdown",
   "metadata": {},
   "source": [
    "# 장점\n",
    "1. 유연성 : 변수의 타입을 명시할 필요가 없어서 코드 작성과 수정이 더 유연하고 빠릅니다.\n",
    "2. 간결한 코드 : 변수 선언 시 타입을 지정하지 않아 코드가 더 간결하고 읽기 쉬워집니다.\n",
    "\n",
    "# 단점\n",
    "1. 런타임 오류 : 코드에서 문자열을 정수로 가정하고 연산을 시도할 때, 문자열이 정수가 아니면 런타임 오류가 발생합니다.\n",
    "2. 코드 이해의 어려움 : 변수의 타입이 명시되지 않아 코드의 가독성이 떨어질 수 있고, 유지보수가 어려울 수 있습니다.\n",
    "3. 퍼포먼스 저하 : 타ㅂ 체크와 동적 타입 변환으로 인해 실행속도가 느려질 수 있습니다."
   ]
  },
  {
   "cell_type": "markdown",
   "metadata": {},
   "source": [
    "---"
   ]
  },
  {
   "cell_type": "markdown",
   "metadata": {},
   "source": [
    "<span style=\"font-size:80%\">[문제3]<br><br></span>\n",
    "```Python으로 정적타입 방식의 코드를 작성할 수 있는 방법을 구글링을 통해 검색 후 설명해주세요```"
   ]
  },
  {
   "cell_type": "markdown",
   "metadata": {},
   "source": [
    "<span style=\"color:red\">답변</span>"
   ]
  },
  {
   "cell_type": "markdown",
   "metadata": {},
   "source": [
    "1. 타입 힌팅 : 변수, 함수의 매개변수, 반환 값 등에 대한 타입 정보를 주석 형태로 제공할 수 있습니다."
   ]
  },
  {
   "cell_type": "code",
   "execution_count": 2,
   "metadata": {},
   "outputs": [
    {
     "name": "stdout",
     "output_type": "stream",
     "text": [
      "25\n"
     ]
    }
   ],
   "source": [
    "def greet(name: str) -> str:\n",
    "    return f'Hello, {name}!'\n",
    "\n",
    "age: int = 25"
   ]
  },
  {
   "cell_type": "markdown",
   "metadata": {},
   "source": [
    "이 예시에서는 greet 함수의 name 매개변수와 반환 값의 타입을 str로 지정하고, 변수 age의 타입을 int로 명시합니다."
   ]
  },
  {
   "cell_type": "markdown",
   "metadata": {},
   "source": [
    "2.dataclasses 모듈 사용\n",
    "    dataclasses 모듈은 데이터 클래스 정의 시 타입을 명시할 수 있도록 도와줍니다."
   ]
  },
  {
   "cell_type": "code",
   "execution_count": 11,
   "metadata": {},
   "outputs": [],
   "source": [
    "from dataclasses import dataclass\n",
    "\n",
    "@dataclass\n",
    "class Person:\n",
    "    name: str\n",
    "    age: int\n",
    "\n",
    "p = Person(name=\"Bob\", age=30)"
   ]
  },
  {
   "cell_type": "markdown",
   "metadata": {},
   "source": [
    "Person 클래스의 name과 age 속성의 타입을 각각 str과 int로 정의합니다."
   ]
  },
  {
   "cell_type": "markdown",
   "metadata": {},
   "source": [
    "3. typing 모듈 사용\n",
    "    typing 모듈을 사용하여 복잡한 타입을 정의할 수 있습니다. 예를 들어, 제너릭 타입, 타입 별칭, 선택적 타입 등을 정의할 수 있습니다."
   ]
  },
  {
   "cell_type": "code",
   "execution_count": null,
   "metadata": {},
   "outputs": [],
   "source": [
    "from typing import List, Optional\n",
    "\n",
    "def process_items(items: List[Optional[int]]) -> List[int]:\n",
    "    return [item for item in items if item is not None]\n",
    "\n",
    "def greet(name: str, age: Optional[int] = None) -> str:\n",
    "    if age is not None:\n",
    "        return f\"Hello, {name}. You are {age} years old.\"\n",
    "    return f\"Hello, {name}!\""
   ]
  },
  {
   "cell_type": "markdown",
   "metadata": {},
   "source": [
    "여기서 List[Optional[int]]는 정수형이거나 None일 수 있는 리스트를 의미합니다."
   ]
  },
  {
   "cell_type": "markdown",
   "metadata": {},
   "source": [
    "4. Pydantic 사용\n",
    "    **Pydantic**은 데이터 검증 및 설정을 위한 라이브러리로, 타입 힌트를 사용하여 데이터의 유효성을 검사하고 변환합니다."
   ]
  },
  {
   "cell_type": "code",
   "execution_count": 12,
   "metadata": {},
   "outputs": [
    {
     "ename": "ModuleNotFoundError",
     "evalue": "No module named 'pydantic'",
     "output_type": "error",
     "traceback": [
      "\u001b[0;31m---------------------------------------------------------------------------\u001b[0m",
      "\u001b[0;31mModuleNotFoundError\u001b[0m                       Traceback (most recent call last)",
      "Cell \u001b[0;32mIn[12], line 1\u001b[0m\n\u001b[0;32m----> 1\u001b[0m \u001b[38;5;28;01mfrom\u001b[39;00m \u001b[38;5;21;01mpydantic\u001b[39;00m \u001b[38;5;28;01mimport\u001b[39;00m BaseModel\n\u001b[1;32m      3\u001b[0m \u001b[38;5;28;01mclass\u001b[39;00m \u001b[38;5;21;01mPerson\u001b[39;00m(BaseModel):\n\u001b[1;32m      4\u001b[0m     name: \u001b[38;5;28mstr\u001b[39m\n",
      "\u001b[0;31mModuleNotFoundError\u001b[0m: No module named 'pydantic'"
     ]
    }
   ],
   "source": [
    "from pydantic import BaseModel \n",
    "#pydantic 라이브러리에서 BaseModel 클래스를 가져옵니다. BaseModel은 Pydantic에서 제공하는 기본 클래스이며, 이 클래스를 상속받아 데이터 모델을 정의\n",
    "\n",
    "class Person(BaseModel): \n",
    "    #Person이라는 이름의 클래스를 정의합니다. 이 클래스는 BaseModel을 상속받으며, Pydantic의 기능을 활용하여 데이터 검증과 변환을 자동으로 수행\n",
    "    name: str\n",
    "    age: int\n",
    "\n",
    "p = Person(name=\"Charlie\", age=40)"
   ]
  },
  {
   "cell_type": "markdown",
   "metadata": {},
   "source": [
    "---"
   ]
  },
  {
   "cell_type": "markdown",
   "metadata": {},
   "source": [
    "<span style=\"font-size:80%\">[문제4]<br><br></span>\n",
    "```프로세스와 스레드의 차이점을 설명해주세요```"
   ]
  },
  {
   "cell_type": "markdown",
   "metadata": {},
   "source": [
    "<span style=\"color:red\">답변</span>"
   ]
  },
  {
   "cell_type": "markdown",
   "metadata": {},
   "source": [
    "프로세스 (Process)\n",
    "\n",
    "1. 독립적인 실행 단위:\n",
    "    프로세스는 운영 체제에서 독립적으로 실행되는 프로그램의 인스턴스입니다. 각 프로세스는 자체 메모리 공간과 자원을 가집니다.\n",
    "    \n",
    "2. 메모리 공간 분리:\n",
    " 각 프로세스는 자신만의 메모리 공간을 가지며, 다른 프로세스와 메모리를 공유하지 않습니다. 이로 인해 프로세스 간의 메모리 충돌이 없습니다.\n",
    "\n",
    "3. 자원 소모:\n",
    "    프로세스를 생성하고 관리하는 데 더 많은 시스템 자원을 소모합니다. 각 프로세스는 별도의 메모리 공간을 필요로 하므로 메모리 사용량이 증가할 수 있습니다.\n",
    "\n",
    "4. 파이썬에서의 구현:\n",
    "    파이썬에서는 multiprocessing 모듈을 사용하여 프로세스를 생성하고 관리합니다. multiprocessing은 각 프로세스가 독립적으로 실행되도록 하고, 프로세스 간 통신(IPC)을 위한 방법도 제공합니다."
   ]
  },
  {
   "cell_type": "code",
   "execution_count": 14,
   "metadata": {},
   "outputs": [
    {
     "name": "stderr",
     "output_type": "stream",
     "text": [
      "Traceback (most recent call last):\n",
      "  File \"<string>\", line 1, in <module>\n",
      "  File \"/Library/Developer/CommandLineTools/Library/Frameworks/Python3.framework/Versions/3.9/lib/python3.9/multiprocessing/spawn.py\", line 116, in spawn_main\n",
      "    exitcode = _main(fd, parent_sentinel)\n",
      "  File \"/Library/Developer/CommandLineTools/Library/Frameworks/Python3.framework/Versions/3.9/lib/python3.9/multiprocessing/spawn.py\", line 126, in _main\n",
      "    self = reduction.pickle.load(from_parent)\n",
      "AttributeError: Can't get attribute 'worker' on <module '__main__' (built-in)>\n"
     ]
    }
   ],
   "source": [
    "from multiprocessing import Process\n",
    "\n",
    "def worker():\n",
    "    print(\"Worker process\")\n",
    "\n",
    "if __name__ == \"__main__\":\n",
    "    p = Process(target=worker)\n",
    "    p.start()\n",
    "    p.join()"
   ]
  },
  {
   "cell_type": "markdown",
   "metadata": {},
   "source": [
    "스레드 (Thread)\n",
    "\n",
    "1.경량 프로세스:\n",
    "    스레드는 프로세스 내에서 실행되는 더 작은 실행 단위입니다. 같은 프로세스 내에서 여러 스레드가 공유 메모리와 자원을 사용합니다.\n",
    "2.메모리 공간 공유: \n",
    "    스레드는 동일한 프로세스 내에서 메모리 공간을 공유하므로, 데이터와 자원을 공유할 수 있습니다. 이로 인해 스레드 간의 데이터 교환이 쉽지만, 동기화 문제가 발생할 수 있습니다.\n",
    "\n",
    "3.자원 소모:\n",
    "    스레드를 생성하고 관리하는 데 프로세스보다 적은 자원을 소모합니다. 스레드는 같은 프로세스 내에서 메모리를 공유하기 때문에 메모리 사용량이 상대적으로 적습니다.\n",
    "\n",
    "4.파이썬에서의 구현:\n",
    "    파이썬에서는 threading 모듈을 사용하여 스레드를 생성하고 관리합니다. 하지만 파이썬의 Global Interpreter Lock (GIL) 때문에 스레드는 CPU 바운드 작업에서는 성능 향상을 기대하기 어려울 수 있습니다."
   ]
  },
  {
   "cell_type": "code",
   "execution_count": 15,
   "metadata": {},
   "outputs": [
    {
     "name": "stdout",
     "output_type": "stream",
     "text": [
      "Worker thread\n"
     ]
    }
   ],
   "source": [
    "from threading import Thread\n",
    "\n",
    "def worker():\n",
    "    print(\"Worker thread\")\n",
    "\n",
    "if __name__ == \"__main__\":\n",
    "    t = Thread(target=worker)\n",
    "    t.start()\n",
    "    t.join()"
   ]
  },
  {
   "cell_type": "markdown",
   "metadata": {},
   "source": [
    "주요 차이점 요약\n",
    "\n",
    "메모리 관리: 프로세스는 독립적인 메모리 공간을 가지며, 스레드는 동일한 프로세스 내에서 메모리를 공유합니다.\n",
    "자원 소모: 프로세스는 스레드보다 자원 소모가 많으며, 스레드는 더 적은 자원을 소모합니다.\n",
    "통신 및 동기화: 프로세스 간의 통신은 더 복잡하며 자원을 공유하지 않기 때문에 동기화가 필요합니다. 스레드는 같은 메모리 공간을 공유하므로 데이터 교환이 쉬우나, 동기화 문제를 해결해야 합니다.\n",
    "GIL: 파이썬의 GIL(Global Interpreter Lock)로 인해 스레드는 CPU 바운드 작업에서 성능이 제한될 수 있습니다. 이로 인해 멀티코어 CPU의 성능을 완전히 활용하기 어려울 수 있습니다."
   ]
  },
  {
   "cell_type": "markdown",
   "metadata": {},
   "source": [
    "---"
   ]
  },
  {
   "cell_type": "markdown",
   "metadata": {},
   "source": [
    "<span style=\"font-size:80%\">[문제5]<br><br></span>\n",
    "```Python 2버전대와 3버전대의 차이를 성명해주세요```"
   ]
  },
  {
   "cell_type": "markdown",
   "metadata": {},
   "source": [
    "<span style=\"color:red\">답변</span>"
   ]
  },
  {
   "cell_type": "markdown",
   "metadata": {},
   "source": [
    "Python 3은 2의 몇몇 기능을 개선하고 더 효율적인 언어 디자인을 목표로 개발되었습니다.\n",
    "\n",
    "문자열 처리\n",
    "    파이썬 2: 문자열은 기본적으로 ASCII이며, 유니코드 문자열은 u\"문자열\"로 정의합니다.\n",
    "    파이썬 3: 문자열은 기본적으로 유니코드이며, 바이트 문자열은 b\"문자열\"로 정의합니다.\n",
    "\n",
    "print 문\n",
    "    파이썬 2: print는 문(statement)으로 사용됩니다. 예: print \"Hello\"\n",
    "    파이썬 3: print는 함수로 사용되며 괄호가 필요합니다. 예: print(\"Hello\")\n",
    "\n",
    "정수 나눗셈\n",
    "    파이썬 2: 정수 나눗셈은 정수 결과를 반환합니다. 예: 5 / 2는 2입니다.\n",
    "    파이썬 3: 정수 나눗셈은 부동 소수점 결과를 반환합니다. 예: 5 / 2는 2.5입니다.\n",
    "\n",
    "xrange와 range\n",
    "    파이썬 2: range()는 리스트를 반환하고, xrange()는 이터레이터를 반환합니다.\n",
    "    파이썬 3: range()는 이터레이터를 반환하며, xrange()는 없습니다.\n",
    "\n",
    "딕셔너리 메서드\n",
    "    파이썬 2: dict.keys(), dict.values(), dict.items()는 리스트를 반환합니다.\n",
    "    파이썬 3: 이러한 메서드는 뷰 객체를 반환합니다.\n",
    "\n",
    "예외 처리\n",
    "    파이썬 2: except Exception, e: 형식을 사용합니다.\n",
    "    파이썬 3: except Exception as e: 형식을 사용합니다.\n",
    "\n",
    "입력 함수\n",
    "    파이썬 2: input()은 평가된 입력을 반환하고, raw_input()은 문자열을 반환합니다.\n",
    "    파이썬 3: input()은 문자열을 반환하며, raw_input()은 없습니다.\n",
    "\n",
    "이 외에도 여러 가지 차이점이 있으며, 파이썬 3는 최신 기능과 보안 패치를 제공하므로 새로운 프로젝트에는 파이썬 3 사용이 권장됩니다."
   ]
  },
  {
   "cell_type": "markdown",
   "metadata": {},
   "source": [
    "---"
   ]
  },
  {
   "cell_type": "markdown",
   "metadata": {},
   "source": [
    "<span style=\"font-size:80%\">[문제6]<br><br></span>\n",
    "```Python에서 메모리 관리는 어떻게 이루어지는지 설명해주세요```"
   ]
  },
  {
   "cell_type": "markdown",
   "metadata": {},
   "source": [
    "<span style=\"color:red\">답변</span>"
   ]
  },
  {
   "cell_type": "markdown",
   "metadata": {},
   "source": [
    "자동 메모리 관리:\n",
    "    파이썬은 가비지 컬렉션을 사용하여 메모리를 자동으로 관리합니다. 이 과정에서 사용되지 않는 객체를 식별하고 메모리에서 해제합니다.\n",
    "\n",
    "참조 카운팅 (Reference Counting):\n",
    "    파이썬은 각 객체에 대한 참조 수를 추적하여, 참조가 0이 되는 객체를 자동으로 해제합니다. 즉, 객체가 더 이상 참조되지 않으면 해당 객체의 메모리가 반환됩니다.\n",
    "\n",
    "순환 참조 처리:\n",
    "    참조 카운트만으로는 순환 참조(즉, 서로를 참조하는 객체들로 인한 메모리 누수)를 해결할 수 없습니다. \n",
    "    따라서 파이썬은 추가로 순환 가비지 컬렉션을 사용하여 이러한 문제를 처리합니다.\n",
    "    순환 가비지 컬렉터는 정기적으로 객체 그래프를 검사하여 순환 참조가 있는 객체를 식별하고 메모리를 해제합니다.\n"
   ]
  }
 ],
 "metadata": {
  "kernelspec": {
   "display_name": "Python 3",
   "language": "python",
   "name": "python3"
  },
  "language_info": {
   "codemirror_mode": {
    "name": "ipython",
    "version": 3
   },
   "file_extension": ".py",
   "mimetype": "text/x-python",
   "name": "python",
   "nbconvert_exporter": "python",
   "pygments_lexer": "ipython3",
   "version": "3.9.6"
  }
 },
 "nbformat": 4,
 "nbformat_minor": 2
}
