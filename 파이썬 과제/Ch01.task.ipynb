{
 "cells": [
  {
   "cell_type": "markdown",
   "metadata": {},
   "source": [
    "<span style=\"font-size:100%\">\n",
    "\n",
    "수업은 모두 열심히 들으셨나요?\n",
    "\n",
    "간혹 강의에서 언급되지 않은 내용이 문제로 나올 수 있습니다.<br>\n",
    "그럴땐 강의 내용 외 문제는 구글링을 통해 해결해주세요<br></span>\n",
    "<span style=\"font-size:80%\">\n",
    "(구글링 또한 개발자가 갖쳐야할 역량 중에 하나랍니다 😊)\n",
    "</span>\n",
    "\n",
    "---"
   ]
  },
  {
   "cell_type": "markdown",
   "metadata": {},
   "source": [
    "<span style=\"font-size:80%\">[문제1]<br><br></span>\n",
    "```인터프리트 방식에 대해 설명하고 2개 이상의 장점을 설명해주세요```"
   ]
  },
  {
   "cell_type": "markdown",
   "metadata": {},
   "source": [
    "<span style=\"color:red\">답변</span>"
   ]
  },
  {
   "cell_type": "markdown",
   "metadata": {},
   "source": [
    "# 인터프리트 방식\n",
    "소스 코드 실행 : 인터프리터는 소스 코드를 직접 읽고 실행합니다. 이는 프로그램이 한 줄씩 읽히고 실행된다는 것을 의미합니다.\n",
    "\n",
    "중간 코드 생성 : 파이썬  인터프리터는 소스 코드를 기계어로 직접 번역하지 않고, 먼 바이트코드라는 중간 형태로 변환합니다. 이 바이트코드는 파이썬 가상머신에서 \n",
    "실행됩니다.\n",
    "\n",
    "동적 실행 : 코드를 동적으로 실행하기 때문에, 코드 실행 중에 동적인 타입 검사와 오류 검사가 가능합니다.\n",
    "\n",
    "# 인터프리트 방식의 장점\n",
    "빠른 개발 및 디버깅 : 코드를 작성한 후 즉시 실행해볼 수 있어 개발과 디버깅이 용이합니다.\n",
    "\n",
    "이식성 : 파이썬 인터프리터가 설치된 어떤 환경에서도 코드가 실행될 수 있어, 다양한 플랫폼에서 이식성이 좋습니다.\n",
    "\n",
    "동적 타입 : 동적 타입 시스템 덕분에 변수의 타입을 명시적으로 선언할 필요 없이 코드를 작성할 수 있습니다.\n"
   ]
  },
  {
   "cell_type": "markdown",
   "metadata": {},
   "source": [
    "---"
   ]
  },
  {
   "cell_type": "markdown",
   "metadata": {},
   "source": [
    "<span style=\"font-size:80%\">[문제2]<br><br></span>\n",
    "```동적 타입 방식의 장점과 단점을 간략히 설명해주세요```"
   ]
  },
  {
   "cell_type": "markdown",
   "metadata": {},
   "source": [
    "<span style=\"color:red\">답변</span>"
   ]
  },
  {
   "cell_type": "markdown",
   "metadata": {},
   "source": [
    "# 장점\n",
    "1. 유연성 : 변수의 타입을 명시할 필요가 없어서 코드 작성과 수정이 더 유연하고 빠릅니다.\n",
    "2. 간결한 코드 : 변수 선언 시 타입을 지정하지 않아 코드가 더 간결하고 읽기 쉬워집니다.\n",
    "\n",
    "# 단점\n",
    "1. 런타임 오류 : 코드에서 문자열을 정수로 가정하고 연산을 시도할 때, 문자열이 정수가 아니면 런타임 오류가 발생합니다.\n",
    "2. 코드 이해의 어려움 : 변수의 타입이 명시되지 않아 코드의 가독성이 떨어질 수 있고, 유지보수가 어려울 수 있습니다.\n",
    "3. 퍼포먼스 저하 : 타ㅂ 체크와 동적 타입 변환으로 인해 실행속도가 느려질 수 있습니다."
   ]
  },
  {
   "cell_type": "markdown",
   "metadata": {},
   "source": [
    "---"
   ]
  },
  {
   "cell_type": "markdown",
   "metadata": {},
   "source": [
    "<span style=\"font-size:80%\">[문제3]<br><br></span>\n",
    "```Python으로 정적타입 방식의 코드를 작성할 수 있는 방법을 구글링을 통해 검색 후 설명해주세요```"
   ]
  },
  {
   "cell_type": "markdown",
   "metadata": {},
   "source": [
    "<span style=\"color:red\">답변</span>"
   ]
  },
  {
   "cell_type": "markdown",
   "metadata": {},
   "source": [
    "1. 타입 힌팅 : 변수, 함수의 매개변수, 반환 값 등에 대한 타입 정보를 주석 형태로 제공할 수 있습니다."
   ]
  },
  {
   "cell_type": "code",
   "execution_count": 7,
   "metadata": {},
   "outputs": [],
   "source": [
    "def greet(name: str) -> str:\n",
    "    return f'Hello, {name}!'\n",
    "\n",
    "age: int = 25"
   ]
  },
  {
   "cell_type": "markdown",
   "metadata": {},
   "source": [
    "---"
   ]
  },
  {
   "cell_type": "markdown",
   "metadata": {},
   "source": [
    "<span style=\"font-size:80%\">[문제4]<br><br></span>\n",
    "```프로세스와 스레드의 차이점을 설명해주세요```"
   ]
  },
  {
   "cell_type": "markdown",
   "metadata": {},
   "source": [
    "<span style=\"color:red\">답변</span>"
   ]
  },
  {
   "cell_type": "markdown",
   "metadata": {},
   "source": []
  },
  {
   "cell_type": "markdown",
   "metadata": {},
   "source": [
    "---"
   ]
  },
  {
   "cell_type": "markdown",
   "metadata": {},
   "source": [
    "<span style=\"font-size:80%\">[문제5]<br><br></span>\n",
    "```Python 2버전대와 3버전대의 차이를 성명해주세요```"
   ]
  },
  {
   "cell_type": "markdown",
   "metadata": {},
   "source": [
    "<span style=\"color:red\">답변</span>"
   ]
  },
  {
   "cell_type": "markdown",
   "metadata": {},
   "source": []
  },
  {
   "cell_type": "markdown",
   "metadata": {},
   "source": [
    "---"
   ]
  },
  {
   "cell_type": "markdown",
   "metadata": {},
   "source": [
    "<span style=\"font-size:80%\">[문제6]<br><br></span>\n",
    "```Python에서 메모리 관리는 어떻게 이루어지는지 설명해주세요```"
   ]
  },
  {
   "cell_type": "markdown",
   "metadata": {},
   "source": [
    "<span style=\"color:red\">답변</span>"
   ]
  },
  {
   "cell_type": "markdown",
   "metadata": {},
   "source": []
  }
 ],
 "metadata": {
  "kernelspec": {
   "display_name": "Python 3",
   "language": "python",
   "name": "python3"
  },
  "language_info": {
   "codemirror_mode": {
    "name": "ipython",
    "version": 3
   },
   "file_extension": ".py",
   "mimetype": "text/x-python",
   "name": "python",
   "nbconvert_exporter": "python",
   "pygments_lexer": "ipython3",
   "version": "3.9.6"
  }
 },
 "nbformat": 4,
 "nbformat_minor": 2
}
