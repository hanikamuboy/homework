{
 "cells": [
  {
   "cell_type": "markdown",
   "metadata": {},
   "source": [
    "<span style=\"font-size:100%\">\n",
    "\n",
    "수업은 모두 열심히 들으셨나요?\n",
    "\n",
    "간혹 강의에서 언급되지 않은 내용이 문제로 나올 수 있습니다.<br>\n",
    "그럴땐 강의 내용 외 문제는 구글링을 통해 해결해주세요<br></span>\n",
    "<span style=\"font-size:80%\">\n",
    "(구글링 또한 개발자가 갖쳐야할 역량 중에 하나랍니다 😊)\n",
    "</span>\n",
    "\n",
    "---"
   ]
  },
  {
   "cell_type": "markdown",
   "metadata": {},
   "source": [
    "<span style=\"font-size:80%\">[문제1]<br><br></span>\n",
    "```주로 작성 중인 코드의 끝을 알리는 기호로 사용되며 파이썬에서 한 줄에 작성된 서로 다른 코드를 구분 지을 때 사용할 수 있는 기호를 골라주세요```\n",
    "\n",
    "1. ' , ' (쉼표)\n",
    "2. ' + ' (더하기 기호)\n",
    "3. ' ; ' (세미콜론)\n",
    "4. ' / ' (슬래시)"
   ]
  },
  {
   "cell_type": "markdown",
   "metadata": {},
   "source": [
    "<span style=\"color:red\">답변</span> :"
   ]
  },
  {
   "cell_type": "markdown",
   "metadata": {},
   "source": [
    "3. ';'"
   ]
  },
  {
   "cell_type": "markdown",
   "metadata": {},
   "source": [
    "----"
   ]
  },
  {
   "cell_type": "markdown",
   "metadata": {},
   "source": [
    "<span style=\"font-size:80%\">[문제2]<br><br></span>\n",
    "```Python의 PEP 8은 무엇인지 설명하고 PEP 8의 핵심적인 규칙을 1개 이상을 설명해주세요```"
   ]
  },
  {
   "cell_type": "markdown",
   "metadata": {},
   "source": [
    "<span style=\"color:red\">답변</span>"
   ]
  },
  {
   "cell_type": "markdown",
   "metadata": {},
   "source": [
    "PEP 8은 Python Enhancement Proposal 8의 약자로, 파이썬 코드의 스타일 가이드입니다. PEP 8은 파이썬 코드를 일관성 있게 작성하도록 도와주며, 코드의 가독성을 높이고 유지보수를 용이하게 하기 위해 설계되었습니다. 이 문서는 파이썬 커뮤니티의 공식적인 코딩 스타일 가이드로, 코드의 작성과 포맷팅에 관한 규칙을 제공합니다.\n",
    "\n",
    "PEP 8의 핵심 규칙\n",
    "1. 들여쓰기\n",
    "    들여쓰기는 4개의 공백을 사용합니다. 탭을 사용하지 않고 공백을 사용하는 것이 권장됩니다.\n",
    "\n",
    "2. 최대 라인 길이\n",
    "    한 줄의 길이는 79자 이하로 제한하는 것이 좋습니다. 긴 줄은 적절한 위치에서 줄 바꿈을 통해 분리합니다.\n",
    "\n",
    "3. 빈 줄\n",
    "    함수와 클래스 정의 사이에는 두 개의 빈 줄을 삽입합니다. 메서드 정의 사이에는 한 개의  빈 줄을 삽입합니다.\n",
    "\n",
    "4. 문서화 문자열(Docstrings)\n",
    "    모듈,클래스,함수에는 문서화 문자열을 사용하여 그 목적과 사용법을 설명합니다. \n",
    "    문서화 문자열은 큰따옴표 세 개로 묶으며, 주석과 마찬가지로 코드의 상단에 위치시킵니다.\n",
    "\n",
    "5. 이름 규칙\n",
    "    변수,함수,메서드 이름은 소문자와 언더스코어를 사용하여 작성합니다.\n",
    "    클래스 이름은 카멜케이스를 사용하여 작성합니다.\n",
    "    상수는 모두 대문자와 언더스코어를 사용하여 작성합니다.\n",
    "\n",
    "6. 불필요한 공백\n",
    "    괄호,대괄호,중괄호의 앞뒤에 불필요한 공백을 사용하지 않습니다.\n",
    "\n",
    "7. 문장 끝의 공백\n",
    "    문장 끝에는 공백을 두지 않습니다.\n",
    "\n",
    "8. 코드의 순서\n",
    "    모듈의 상단에는 주석,import문,클래스와 함수 정의가 차례로 위치해야 합니다.\n",
    "    import문은 표준 라이브러리, 서드파티 라이브러리, 로컬 애플리케이션/라이브러리의 순서로 나누어 정렬합니다.\n",
    "\n",
    "9. 주석\n",
    "    주석은 코드의 동작을 설명하는 데 사용하며, 코드와 동일한 스타일을 유지합니다. 주석은 코드를 이해하는 데 도움이 되는 내용을 포함해야 합니다.\n",
    "\n",
    "10. 조건문과 반복문\n",
    "    조건문과 반복문 내에서 단일 표현식으로 줄 바꿈을 최소화합니다.\n",
    "\n",
    "이 규칙들을 따르면, 파이썬 코드를 읽고 이해하기 쉬우며, 협업 시 코드의 일관성을 유지할 수 있습니다. PEP 8은 파이썬의 스타일과 관례를 유지하는 데 중요한 역할을 하며, 많은 파이썬 프로젝트에서 이를 준수하고 있습니다."
   ]
  },
  {
   "cell_type": "markdown",
   "metadata": {},
   "source": [
    "----"
   ]
  },
  {
   "cell_type": "markdown",
   "metadata": {},
   "source": [
    "<span style=\"font-size:80%\">[문제3]<br><br></span>\n",
    "```Python에서 \"#\"이 의마하는 것은 무엇인지 설명해주세요```"
   ]
  },
  {
   "cell_type": "markdown",
   "metadata": {},
   "source": [
    "<span style=\"color:red\">답변</span>"
   ]
  },
  {
   "cell_type": "markdown",
   "metadata": {},
   "source": [
    "파이썬에서 #은 주석을 나타냅니다.\n",
    "\n",
    "# \n",
    "기호 뒤에 오는 모든 텍스트는 파이썬 인터프리터에 의해 무시되며, 코드 실행에는 영향을 미치지 않습니다.\n",
    "주석은 코드를 이해하고 유지 관리하는 데 도움이 되는 설명이나 메모를 추가하는 데 사용됩니다."
   ]
  },
  {
   "cell_type": "markdown",
   "metadata": {},
   "source": [
    "----"
   ]
  },
  {
   "cell_type": "markdown",
   "metadata": {},
   "source": [
    "<span style=\"font-size:80%\">[문제4]<br><br></span>\n",
    "```Python의 들여쓰기 장점과 기능에 대해 설명해주세요```"
   ]
  },
  {
   "cell_type": "markdown",
   "metadata": {},
   "source": [
    "<span style=\"color:red\">답변</span>"
   ]
  },
  {
   "cell_type": "markdown",
   "metadata": {},
   "source": [
    "들여쓰기는 코드의 가독성을 높이면서 코드의 구조를 결정하는 역활을 합니다."
   ]
  },
  {
   "cell_type": "markdown",
   "metadata": {},
   "source": [
    "----"
   ]
  },
  {
   "cell_type": "markdown",
   "metadata": {},
   "source": [
    "<span style=\"font-size:80%\">[문제5]<br><br></span>\n",
    "```print( )문의 기능 및 특징에 대해 설명해주세요```"
   ]
  },
  {
   "cell_type": "markdown",
   "metadata": {},
   "source": [
    "<span style=\"color:red\">답변</span>"
   ]
  },
  {
   "cell_type": "code",
   "execution_count": null,
   "metadata": {
    "vscode": {
     "languageId": "plaintext"
    }
   },
   "outputs": [],
   "source": [
    "print()는 변수, 텍스트, 데이터 등을 콘솔에 출력할 때 사용됩니다.\n",
    "\n",
    "1. 다양한 데이터 출력: print()함수는 문자열, 숫자, 리스트, 딕셔너리 등 다양한 타입의 데이터를 출력할 수 있습니다.\n",
    "\n",
    "2. 여러 데이터 동시 출력: print()함수는 쉼표(,)를 사용하여 여러 개의 데이터를 동시에 출력할 수 있습니다. \n",
    "이때 각 데이터 사이에는 공백이 삽입됩니다. 예를 들어, print(’Hello’, ‘ World’)는 'Hello World'를 출력합니다.\n",
    "\n",
    "3. 문자열 포매팅: print() 함수는 문자열 포매팅을 지원합니다. 즉, 문자열 내에 변수 값을 삽입하여 동적으로 문자열을 생성할 수 있습니다.\n",
    "\n",
    "4. 개행 제어: print() 함수의 end 매개변수를 사용하면 출력 후의 동작을 제어할 수 있습니다. 기본값은 '\\n'으로, 출력 후에 줄 바꿈을 수행합니다. \n",
    "예를 들어, print(’Hello’, end=’ ’)는 문자열을 출력한 후 줄 바꿈을 하지 않습니다.\n",
    "5. 구분자 제어: print() 함수의 sep 매개변수를 사용하면 여러 데이터를 출력할 때 데이터 사이의 구분자를 지정할 수 있습니다. \n",
    "기본값은 공백(' ')입니다. 예를 들어, print(’Hello’, ‘World’, sep=’—’)는 'Hello--World'를 출력합니다."
   ]
  },
  {
   "cell_type": "markdown",
   "metadata": {},
   "source": []
  }
 ],
 "metadata": {
  "language_info": {
   "name": "python"
  }
 },
 "nbformat": 4,
 "nbformat_minor": 2
}
